{
 "cells": [
  {
   "cell_type": "code",
   "execution_count": 2,
   "metadata": {
    "collapsed": true
   },
   "outputs": [],
   "source": [
    "# AVL Tree Node\n",
    "class Node(object):\n",
    "    \n",
    "    def __init__(self, data):\n",
    "        self.data = data\n",
    "        self.height = 0\n",
    "        self.left_child = None\n",
    "        self.right_child = None\n",
    "        "
   ]
  },
  {
   "cell_type": "code",
   "execution_count": 36,
   "metadata": {
    "collapsed": true
   },
   "outputs": [],
   "source": [
    "# AVL Tree\n",
    "class AVL(object):\n",
    "    \n",
    "    def __init__(self):\n",
    "        self.root = None;\n",
    "        \n",
    "    def insert(self, data):\n",
    "        print('Insert: %s' % data)\n",
    "        self.root = self.insert_node(data, self.root)\n",
    "        \n",
    "        \n",
    "    def insert_node(self, data, node):\n",
    "        if not node:\n",
    "            return Node(data)\n",
    "        \n",
    "        if data < node.data:\n",
    "            node.left_child = self.insert_node(data, node.left_child)\n",
    "        else:\n",
    "            node.right_child = self.insert_node(data, node.right_child)\n",
    "        \n",
    "        node.height = max(self.calc_height(node.left_child), self.calc_height(node.right_child)) + 1\n",
    "        \n",
    "        return self.settle_violations(data, node)\n",
    "        \n",
    "        \n",
    "    def remove(self, data):\n",
    "        print('Remove: %s' % data)\n",
    "        if self.root:\n",
    "            self.root = self.remove_node(data, self.root)\n",
    "            \n",
    "            \n",
    "    # O(logN)\n",
    "    def remove_node(self, data, node):\n",
    "        if not node:\n",
    "            return node\n",
    "        \n",
    "        if data < node.data:\n",
    "            node.left_child = self.remove_node(data, node.left_child)\n",
    "        elif data > node.data:\n",
    "            node.right_child = self.remove_node(data, node.right_child)\n",
    "        else:\n",
    "            # leaf node\n",
    "            if not node.left_child and not node.right_child:\n",
    "                del node\n",
    "                return None\n",
    "            \n",
    "            # single left child\n",
    "            if not node.left_child:\n",
    "                temp_node = node.right_child\n",
    "                del node\n",
    "                return temp_node  \n",
    "            \n",
    "            # single right child\n",
    "            elif not node.right_child:\n",
    "                temp_node = node.left_child\n",
    "                del node\n",
    "                return temp_node\n",
    "                \n",
    "            # both left and right children - remove node and replace w/ predecessor in subtree\n",
    "            temp_node = self.get_predecessor(node.left_child)\n",
    "            node.data = temp_node.data\n",
    "            node.left_child = self.remove_node(temp_node.data, node.left_child)\n",
    "        \n",
    "        if not node:\n",
    "            return node; # if the tree had just a single node\n",
    "\n",
    "        node.height = max(self.calc_height(node.left_child), self.calc_height(node.right_child)) + 1;\n",
    "\n",
    "        balance = self.calc_balance(node);\n",
    "\n",
    "        if balance > 1 and self.calc_balance(node.left_child) >= 0:\n",
    "            return self.rotate_right(node);\n",
    "\n",
    "        if balance > 1 and self.calc_balance(node.left_child) < 0:\n",
    "            node.leftChild = self.rotate_left(node.left_child);\n",
    "            return self.rotate_right(node);\n",
    "\n",
    "        if balance < -1 and self.calc_balance(node.right_child) <= 0:\n",
    "            return self.rotate_left(node);\n",
    "\n",
    "        if balance < -1 and self.calc_balance(node.rightChild) > 0:\n",
    "            node.rightChild = self.rotate_right(node.rightChild);\n",
    "            return self.rotate_left(node);\n",
    "\n",
    "        return node;\n",
    "\n",
    "            \n",
    "    def get_predecessor(self, node):\n",
    "        if node.right_child:\n",
    "            return self.get_predecessor(node.right_child)\n",
    "        \n",
    "        \n",
    "    def settle_violations(self, data, node):\n",
    "        balance = self.calc_balance(node)\n",
    "        \n",
    "        # doubly-left heavy situation\n",
    "        if balance > 1 and data < node.left_child.data:\n",
    "            return self.rotate_right(node)\n",
    "        \n",
    "        # doubly-right heavy situation\n",
    "        if balance < -1 and data > node.right_child.data:\n",
    "            return self.rotate_left(node)\n",
    "        \n",
    "        # left-right heavy situation\n",
    "        if balance > 1 and data > node.left_child.data:\n",
    "            node.left_child = self.rotate_left(node.left_child)\n",
    "            return self.rotate_right(node)\n",
    "            \n",
    "        # right-left heavy situation\n",
    "        if balance < -1 and data < node.right_child.data:\n",
    "            node.right_child = self.rotate_right(node.right_child)\n",
    "            return self.rotate_left(node)\n",
    "        \n",
    "        # no rotations needed\n",
    "        return node\n",
    "            \n",
    "        \n",
    "    def calc_height(self, node):\n",
    "        if not node:\n",
    "            return -1\n",
    "        \n",
    "        return node.height\n",
    "    \n",
    "    \n",
    "    # if > 1 => left heavy => right rotation\n",
    "    # if < -1 => right heavy => left rotation\n",
    "    def calc_balance(self, node):\n",
    "        if not node:\n",
    "            return 0;\n",
    "        \n",
    "        return self.calc_height(node.left_child) - self.calc_height(node.right_child)\n",
    "    \n",
    "    \n",
    "    # O(1)\n",
    "    def rotate_right(self, node):\n",
    "        print('Right rotation')\n",
    "        \n",
    "        temp_left_child = node.left_child\n",
    "        t = temp_left_child.right_child\n",
    "        \n",
    "        temp_left_child.right_child = node\n",
    "        node.left_child = t\n",
    "        \n",
    "        node.height = max(self.calc_height(node.left_child), self.calc_height(node.right_child)) + 1\n",
    "        temp_left_child.height = max(self.calc_height(temp_left_child.left_child), self.calc_height(temp_left_child.right_child)) + 1\n",
    "        \n",
    "        return temp_left_child\n",
    "        \n",
    "    # O(1)    \n",
    "    def rotate_left(self, node):\n",
    "        print('Left rotation')\n",
    "        \n",
    "        temp_right_child = node.right_child\n",
    "        t = temp_right_child.left_child\n",
    "        \n",
    "        temp_right_child.left_child = node\n",
    "        node.right_child = t\n",
    "        \n",
    "        node.height = max(self.calc_height(node.left_child), self.calc_height(node.right_child)) + 1\n",
    "        temp_right_child.height = max(self.calc_height(temp_right_child.left_child), self.calc_height(temp_right_child.right_child)) + 1\n",
    "        \n",
    "        return temp_right_child\n",
    "    \n",
    "    \n",
    "    def traverse(self):\n",
    "        print('Traverse:')\n",
    "        if self.root:\n",
    "            self.traverse_in_order(self.root)\n",
    "            \n",
    "\n",
    "    def traverse_in_order(self, node):\n",
    "        if node.left_child:\n",
    "            self.traverse_in_order(node.left_child)\n",
    "            \n",
    "        print('  %s ' % node.data)\n",
    "        \n",
    "        if node.right_child:\n",
    "            self.traverse_in_order(node.right_child)\n",
    "        \n",
    "    "
   ]
  },
  {
   "cell_type": "code",
   "execution_count": 37,
   "metadata": {
    "collapsed": false
   },
   "outputs": [
    {
     "name": "stdout",
     "output_type": "stream",
     "text": [
      "Insert: 10\n",
      "Insert: 20\n",
      "Insert: 30\n",
      "Left rotation\n",
      "Insert: 40\n",
      "Insert: 50\n",
      "Left rotation\n",
      "Traverse:\n",
      "  10 \n",
      "  20 \n",
      "  30 \n",
      "  40 \n",
      "  50 \n"
     ]
    }
   ],
   "source": [
    "# doubly right heavy\n",
    "avl = AVL()\n",
    "avl.insert(10)\n",
    "avl.insert(20)\n",
    "avl.insert(30)\n",
    "avl.insert(40)\n",
    "avl.insert(50)\n",
    "avl.traverse()"
   ]
  },
  {
   "cell_type": "code",
   "execution_count": 38,
   "metadata": {
    "collapsed": false
   },
   "outputs": [
    {
     "name": "stdout",
     "output_type": "stream",
     "text": [
      "Insert: 500\n",
      "Insert: 400\n",
      "Insert: 300\n",
      "Right rotation\n",
      "Insert: 200\n",
      "Insert: 100\n",
      "Right rotation\n",
      "Traverse:\n",
      "  100 \n",
      "  200 \n",
      "  300 \n",
      "  400 \n",
      "  500 \n"
     ]
    }
   ],
   "source": [
    "# doubly left heavy\n",
    "avl = AVL()\n",
    "avl.insert(500)\n",
    "avl.insert(400)\n",
    "avl.insert(300)\n",
    "avl.insert(200)\n",
    "avl.insert(100)\n",
    "avl.traverse()"
   ]
  },
  {
   "cell_type": "code",
   "execution_count": 39,
   "metadata": {
    "collapsed": false
   },
   "outputs": [
    {
     "name": "stdout",
     "output_type": "stream",
     "text": [
      "Insert: 5\n",
      "Insert: 7\n",
      "Insert: 6\n",
      "Right rotation\n",
      "Left rotation\n",
      "Traverse:\n",
      "  5 \n",
      "  6 \n",
      "  7 \n"
     ]
    }
   ],
   "source": [
    "# right-left heavy\n",
    "avl = AVL()\n",
    "avl.insert(5)\n",
    "avl.insert(7)\n",
    "avl.insert(6)\n",
    "avl.traverse()"
   ]
  },
  {
   "cell_type": "code",
   "execution_count": 40,
   "metadata": {
    "collapsed": false
   },
   "outputs": [
    {
     "name": "stdout",
     "output_type": "stream",
     "text": [
      "Insert: 5\n",
      "Insert: 3\n",
      "Insert: 4\n",
      "Left rotation\n",
      "Right rotation\n",
      "Traverse:\n",
      "  3 \n",
      "  4 \n",
      "  5 \n"
     ]
    }
   ],
   "source": [
    "# left-right heavy\n",
    "avl = AVL()\n",
    "avl.insert(5)\n",
    "avl.insert(3)\n",
    "avl.insert(4)\n",
    "avl.traverse()"
   ]
  },
  {
   "cell_type": "code",
   "execution_count": 41,
   "metadata": {
    "collapsed": false
   },
   "outputs": [
    {
     "name": "stdout",
     "output_type": "stream",
     "text": [
      "Insert: 10\n",
      "Insert: 9\n",
      "Insert: 15\n",
      "Insert: 20\n",
      "Remove: 9\n",
      "Left rotation\n",
      "Traverse:\n",
      "  10 \n",
      "  15 \n",
      "  20 \n"
     ]
    }
   ],
   "source": [
    "# remove - triggers rebalance\n",
    "avl = AVL()\n",
    "avl.insert(10)\n",
    "avl.insert(9)\n",
    "avl.insert(15)\n",
    "avl.insert(20)\n",
    "avl.remove(9)\n",
    "avl.traverse()"
   ]
  },
  {
   "cell_type": "code",
   "execution_count": 42,
   "metadata": {
    "collapsed": false
   },
   "outputs": [
    {
     "name": "stdout",
     "output_type": "stream",
     "text": [
      "Insert: 10\n",
      "Insert: 9\n",
      "Insert: 8\n",
      "Right rotation\n",
      "Insert: 7\n",
      "Insert: 15\n",
      "Remove: 10\n",
      "Traverse:\n",
      "  7 \n",
      "  8 \n",
      "  9 \n",
      "  15 \n"
     ]
    }
   ],
   "source": [
    "# remove - triggers rebalance\n",
    "avl = AVL()\n",
    "avl.insert(10)\n",
    "avl.insert(9)\n",
    "avl.insert(8)\n",
    "avl.insert(7)\n",
    "avl.insert(15)\n",
    "avl.remove(10)\n",
    "avl.traverse()"
   ]
  },
  {
   "cell_type": "code",
   "execution_count": null,
   "metadata": {
    "collapsed": true
   },
   "outputs": [],
   "source": []
  }
 ],
 "metadata": {
  "anaconda-cloud": {},
  "kernelspec": {
   "display_name": "Python [conda root]",
   "language": "python",
   "name": "conda-root-py"
  },
  "language_info": {
   "codemirror_mode": {
    "name": "ipython",
    "version": 2
   },
   "file_extension": ".py",
   "mimetype": "text/x-python",
   "name": "python",
   "nbconvert_exporter": "python",
   "pygments_lexer": "ipython2",
   "version": "2.7.12"
  }
 },
 "nbformat": 4,
 "nbformat_minor": 1
}
