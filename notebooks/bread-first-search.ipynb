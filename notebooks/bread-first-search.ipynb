{
 "cells": [
  {
   "cell_type": "code",
   "execution_count": 2,
   "metadata": {
    "collapsed": true
   },
   "outputs": [],
   "source": [
    "# Graph node\n",
    "class Node(object):\n",
    "    \n",
    "    def __init__(self, name):\n",
    "        self.name = name\n",
    "        self.neighbor_list = []\n",
    "        self.visited = False\n",
    "        self.predecessor = None\n",
    "        "
   ]
  },
  {
   "cell_type": "code",
   "execution_count": 13,
   "metadata": {
    "collapsed": false
   },
   "outputs": [],
   "source": [
    "# Breadth first search\n",
    "class BreadthFirstSearch(object):\n",
    "    \n",
    "    def search(self, start_node):\n",
    "        queue = [];\n",
    "        queue.append(start_node)\n",
    "        start_node.visited = True\n",
    "        \n",
    "        while len(queue) > 0:\n",
    "            node = queue.pop(0)\n",
    "            print(\"%s \" % node.name)\n",
    "            \n",
    "            for neighbor in node.neighbor_list:\n",
    "                if not neighbor.visited:\n",
    "                    neighbor.visited = True\n",
    "                    queue.append(neighbor)\n",
    "    "
   ]
  },
  {
   "cell_type": "code",
   "execution_count": 14,
   "metadata": {
    "collapsed": false
   },
   "outputs": [
    {
     "name": "stdout",
     "output_type": "stream",
     "text": [
      "A \n",
      "B \n",
      "C \n",
      "D \n",
      "E \n",
      "F \n",
      "G \n"
     ]
    }
   ],
   "source": [
    "a = Node(\"A\")\n",
    "b = Node(\"B\")\n",
    "c = Node(\"C\")\n",
    "d = Node(\"D\")\n",
    "e = Node(\"E\")\n",
    "f = Node(\"F\")\n",
    "g = Node(\"G\")\n",
    "\n",
    "a.neighbor_list = [b, c]\n",
    "b.neighbor_list = [d, e]\n",
    "c.neighbor_list = [f, g]\n",
    "\n",
    "bfs = BreadthFirstSearch()\n",
    "bfs.search(a)"
   ]
  }
 ],
 "metadata": {
  "anaconda-cloud": {},
  "kernelspec": {
   "display_name": "Python [conda root]",
   "language": "python",
   "name": "conda-root-py"
  },
  "language_info": {
   "codemirror_mode": {
    "name": "ipython",
    "version": 2
   },
   "file_extension": ".py",
   "mimetype": "text/x-python",
   "name": "python",
   "nbconvert_exporter": "python",
   "pygments_lexer": "ipython2",
   "version": "2.7.12"
  }
 },
 "nbformat": 4,
 "nbformat_minor": 1
}
