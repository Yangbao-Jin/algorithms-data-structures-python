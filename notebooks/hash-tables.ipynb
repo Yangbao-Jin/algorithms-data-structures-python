{
 "cells": [
  {
   "cell_type": "code",
   "execution_count": 50,
   "metadata": {
    "collapsed": false
   },
   "outputs": [
    {
     "name": "stdout",
     "output_type": "stream",
     "text": [
      "index: 5\n",
      "index: 0\n",
      "index: 4\n",
      "index: 8\n",
      "index: 5\n",
      "index: 8\n",
      "index: 9\n",
      "index: 0\n",
      "index: 2\n",
      "[[('boom', 'baz'), ('jimmy', 3)], None, [('johnny', 1)], None, [('lorem', 'ipsum')], [('foo', 'bam')], None, None, [('cash', 'rules'), ('amy', 1)], [('bobby', 2)], None]\n",
      "[[('boom', 'baz'), ('jimmy', 3)], None, [('johnny', 1)], None, [], [('foo', 'bam')], None, None, [('cash', 'rules'), ('amy', 1)], [('bobby', 2)], None]\n"
     ]
    }
   ],
   "source": [
    "ht = HashTable(11)\n",
    "ht.put('foo', 'bar')\n",
    "ht.put('boom', 'baz')\n",
    "ht.put('lorem', 'ipsum')\n",
    "ht.put('cash', 'rules')\n",
    "ht.put('foo', 'bam')\n",
    "ht.put('amy', 1)\n",
    "ht.put('bobby', 2)\n",
    "ht.put('jimmy', 3)\n",
    "ht.put('johnny', 1)\n",
    "ht.print_collection()\n",
    "ht.get('johnny')"
   ]
  },
  {
   "cell_type": "code",
   "execution_count": 20,
   "metadata": {
    "collapsed": false
   },
   "outputs": [
    {
     "data": {
      "text/plain": [
       "10"
      ]
     },
     "execution_count": 20,
     "metadata": {},
     "output_type": "execute_result"
    }
   ],
   "source": [
    "hash_fn('9ab', 11)"
   ]
  },
  {
   "cell_type": "code",
   "execution_count": 27,
   "metadata": {
    "collapsed": false
   },
   "outputs": [
    {
     "name": "stdout",
     "output_type": "stream",
     "text": [
      "get: 14\n",
      "dict: {'Emily': 56, 'Adam': 26}\n",
      "keys: ['Emily', 'Adam']\n",
      "values: [56, 26]\n",
      "dict: {'Emily': 56, 'Adam': 38}\n"
     ]
    }
   ],
   "source": [
    "# Python dictionary\n",
    "dict = {'Joe': 14, 'Adam': 26, 'Emily': 56}\n",
    "print('get: %s' % dict['Joe'])\n",
    "\n",
    "del dict['Joe']\n",
    "\n",
    "print('dict: %s' % dict)\n",
    "print('keys: %s' % dict.keys())\n",
    "print('values: %s' % dict.values())\n",
    "\n",
    "dict['Adam'] = 38\n",
    "print('dict: %s' % dict)"
   ]
  }
 ],
 "metadata": {
  "kernelspec": {
   "display_name": "Python [conda root]",
   "language": "python",
   "name": "conda-root-py"
  },
  "language_info": {
   "codemirror_mode": {
    "name": "ipython",
    "version": 2
   },
   "file_extension": ".py",
   "mimetype": "text/x-python",
   "name": "python",
   "nbconvert_exporter": "python",
   "pygments_lexer": "ipython2",
   "version": "2.7.12"
  }
 },
 "nbformat": 4,
 "nbformat_minor": 1
}
