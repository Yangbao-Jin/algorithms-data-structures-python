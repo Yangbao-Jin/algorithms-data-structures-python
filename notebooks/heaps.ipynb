{
 "cells": [
  {
   "cell_type": "code",
   "execution_count": 1,
   "metadata": {
    "collapsed": true
   },
   "outputs": [],
   "source": [
    "class Heap(object):\n",
    "    \n",
    "    HEAP_SIZE = 10\n",
    "    \n",
    "    def __init__(self):\n",
    "        # init w/ array of zeros\n",
    "        self.heap = [0] * Heap.HEAP_SIZE\n",
    "        self.current_position = -1\n",
    "        \n",
    "    def insert(self, item):\n",
    "        if self.is_full():\n",
    "            return\n",
    "        \n",
    "        self.current_position += 1\n",
    "        self.heap[self.current_position] = item\n",
    "        self.fix_up(self.current_position)\n",
    "        \n",
    "    def is_full(self):\n",
    "        if self.current_position == Heap.HEAP_SIZE:\n",
    "            return True\n",
    "        else:\n",
    "            return False\n",
    "        \n",
    "    def fix_up(self, index):\n",
    "        \n",
    "        parent_index = int((index - 1)/2)\n",
    "        \n",
    "        while parent_index >= 0 and self.heap[parent_index] < self.heap[index]:\n",
    "            # swap elements if child is greater than the parent\n",
    "            temp = self.heap[index]\n",
    "            self.heap[index] = self.heap[parent_index]\n",
    "            self.heap[parent_index] = temp\n",
    "            index = parent_index\n",
    "            parent_index = int((index - 1)/2)\n",
    "        \n",
    "\n",
    "    def fix_down(self, index, end_index):\n",
    "        if(end_index < 0):\n",
    "            end_index = self.current_position;\n",
    "            \n",
    "        while(index <= end_index):\n",
    "            left_child_index = 2 * index + 1;\n",
    "            right_child_index = 2 * index + 2;\n",
    "            \n",
    "            if(left_child_index <= end_index):\n",
    "                \n",
    "                swap_index = None;\n",
    "                \n",
    "                # determine which child node is greater\n",
    "                if(right_child_index > end_index):\n",
    "                    swap_index = left_child_index;\n",
    "                else:\n",
    "                    if(self.heap[left_child_index] > self.heap[right_child_index]):\n",
    "                        swap_index = left_child_index;\n",
    "                    else:\n",
    "                        swap_index = right_child_index;                           \n",
    "                \n",
    "                # swap child w/ parent if child is greater\n",
    "                if(self.heap[index] < self.heap[swap_index]):\n",
    "                    temp = self.heap[index];\n",
    "                    self.heap[index] = self.heap[swap_index];\n",
    "                    self.heap[swap_index] = temp;\n",
    "                else:\n",
    "                    break;\n",
    "                                \n",
    "                index = swap_index;\n",
    "            else:\n",
    "                break;           \n",
    "                \n",
    "        \n",
    "    def heapsort(self):\n",
    "        for i in range(0, self.current_position + 1):\n",
    "            temp = self.heap[0]; \n",
    "            print(\"%d \" % temp);\n",
    "            self.heap[0] = self.heap[self.current_position - i];\n",
    "            self.heap[self.current_position - i] = temp;\n",
    "            self.fix_down(0, self.current_position - i - 1);"
   ]
  },
  {
   "cell_type": "code",
   "execution_count": 2,
   "metadata": {
    "collapsed": false
   },
   "outputs": [
    {
     "name": "stdout",
     "output_type": "stream",
     "text": [
      "4 \n",
      "3 \n",
      "2 \n",
      "1 \n"
     ]
    }
   ],
   "source": [
    "heap = Heap()\n",
    "heap.insert(4)\n",
    "heap.insert(3)\n",
    "heap.insert(2)\n",
    "heap.insert(1)\n",
    "\n",
    "heap.heapsort()"
   ]
  },
  {
   "cell_type": "code",
   "execution_count": 3,
   "metadata": {
    "collapsed": false
   },
   "outputs": [
    {
     "name": "stdout",
     "output_type": "stream",
     "text": [
      "1567 \n",
      "355 \n",
      "40 \n",
      "20 \n",
      "1 \n",
      "-33 \n"
     ]
    }
   ],
   "source": [
    "heap = Heap()\n",
    "heap.insert(40)\n",
    "heap.insert(355)\n",
    "heap.insert(20)\n",
    "heap.insert(1567)\n",
    "heap.insert(-33)\n",
    "heap.insert(1)\n",
    "\n",
    "heap.heapsort()"
   ]
  },
  {
   "cell_type": "code",
   "execution_count": null,
   "metadata": {
    "collapsed": true
   },
   "outputs": [],
   "source": [
    ""
   ]
  }
 ],
 "metadata": {
  "anaconda-cloud": {},
  "kernelspec": {
   "display_name": "Python [conda root]",
   "language": "python",
   "name": "conda-root-py"
  },
  "language_info": {
   "codemirror_mode": {
    "name": "ipython",
    "version": 2.0
   },
   "file_extension": ".py",
   "mimetype": "text/x-python",
   "name": "python",
   "nbconvert_exporter": "python",
   "pygments_lexer": "ipython2",
   "version": "2.7.12"
  }
 },
 "nbformat": 4,
 "nbformat_minor": 0
}