{
 "cells": [
  {
   "cell_type": "code",
   "execution_count": 8,
   "metadata": {
    "collapsed": true
   },
   "outputs": [],
   "source": [
    "import heapq;\n",
    "\n",
    "class Vertex(object):\n",
    "    \n",
    "    def __init__(self, name):\n",
    "        self.name = name\n",
    "        self.visited = False\n",
    "        self.predecessor = None\n",
    "        self.adjacencies_list = []\n",
    "        \n",
    "    # toString()\n",
    "    def __str__(self):\n",
    "        return self.name\n",
    "        \n",
    "class Edge(object):\n",
    "    \n",
    "    def __init__(self, weight, start_vertex, target_vertex):\n",
    "        self.weight = weight\n",
    "        self.start_vertex = start_vertex\n",
    "        self.target_vertex = target_vertex\n",
    "        \n",
    "    def __cmp__(self, other_edge):\n",
    "        return self.cmp(self.weight, other_edge.weight)\n",
    "    \n",
    "    def __lt__(self, other):\n",
    "        self_priority = self.weight\n",
    "        other_priority = other.weight\n",
    "        return self_priority < other_priority\n",
    "    \n",
    "class PrimsJarnik(object):\n",
    "    \n",
    "    def __init__(self, unvisited_list):\n",
    "        self.unvisited_list = unvisited_list\n",
    "        self.spanning_tree = []\n",
    "        self.edge_heap = []\n",
    "        self.full_cost = 0\n",
    "        \n",
    "    def calculate_spanning_tree(self, vertex):\n",
    "        self.unvisited_list.remove(vertex)\n",
    "        \n",
    "        while self.unvisited_list:\n",
    "            for edge in vertex.adjacencies_list:\n",
    "                if edge.target_vertex in self.unvisited_list:\n",
    "                    heapq.heappush(self.edge_heap, edge)\n",
    "                    \n",
    "            min_edge = heapq.heappop(self.edge_heap)\n",
    "            \n",
    "            self.spanning_tree.append(min_edge)\n",
    "            print('Edge added to spanning tree: %s - %s' %(min_edge.start_vertex.name, min_edge.target_vertex.name))\n",
    "            self.full_cost = self.full_cost + min_edge.weight\n",
    "            \n",
    "            vertex = min_edge.target_vertex\n",
    "            self.unvisited_list.remove(vertex)\n",
    "            \n",
    "    def get_spanning_tree(self):\n",
    "        return self.spanning_tree"
   ]
  },
  {
   "cell_type": "code",
   "execution_count": 10,
   "metadata": {
    "collapsed": false
   },
   "outputs": [
    {
     "name": "stdout",
     "output_type": "stream",
     "text": [
      "Edge added to spanning tree: A - B\n",
      "Edge added to spanning tree: B - C\n"
     ]
    }
   ],
   "source": [
    "node1 = Vertex(\"A\");\n",
    "node2 = Vertex(\"B\");\n",
    "node3 = Vertex(\"C\");\n",
    "\n",
    "edge1 = Edge(100,node1,node2);\n",
    "edge2 = Edge(100,node2,node1);\n",
    "edge3 = Edge(1000,node1,node3);\n",
    "edge4 = Edge(1000,node3,node1);\n",
    "edge5 = Edge(0.01,node3,node2);\n",
    "edge6 = Edge(0.01,node2,node3);\n",
    "\n",
    "node1.adjacencies_list.append(edge1);\n",
    "node1.adjacencies_list.append(edge3);\n",
    "node2.adjacencies_list.append(edge2);\n",
    "node2.adjacencies_list.append(edge6);\n",
    "node3.adjacencies_list.append(edge4);\n",
    "node3.adjacencies_list.append(edge5);\n",
    "\n",
    "unvisited_list = [];\n",
    "unvisited_list.append(node1);\n",
    "unvisited_list.append(node2);\n",
    "unvisited_list.append(node3);\n",
    "\n",
    "algorithm = PrimsJarnik(unvisited_list)\n",
    "algorithm.calculate_spanning_tree(node1)"
   ]
  },
  {
   "cell_type": "code",
   "execution_count": null,
   "metadata": {
    "collapsed": true
   },
   "outputs": [],
   "source": []
  }
 ],
 "metadata": {
  "anaconda-cloud": {},
  "kernelspec": {
   "display_name": "Python [conda root]",
   "language": "python",
   "name": "conda-root-py"
  },
  "language_info": {
   "codemirror_mode": {
    "name": "ipython",
    "version": 2
   },
   "file_extension": ".py",
   "mimetype": "text/x-python",
   "name": "python",
   "nbconvert_exporter": "python",
   "pygments_lexer": "ipython2",
   "version": "2.7.12"
  }
 },
 "nbformat": 4,
 "nbformat_minor": 1
}
