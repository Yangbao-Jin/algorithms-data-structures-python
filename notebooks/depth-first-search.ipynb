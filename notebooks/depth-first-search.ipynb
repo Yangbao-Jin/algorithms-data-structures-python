{
 "cells": [
  {
   "cell_type": "code",
   "execution_count": 5,
   "metadata": {
    "collapsed": false
   },
   "outputs": [],
   "source": [
    "class Node(object):\n",
    "    \n",
    "    def __init__(self, name):\n",
    "        self.name = name\n",
    "        self.neighbors_list = []\n",
    "        self.visited = False\n",
    "        self.predecessor = None\n",
    "        \n",
    "        \n",
    "# Recursive implementation of DFS        \n",
    "class DepthFirstSearch(object):\n",
    "    \n",
    "    def search(self, node):\n",
    "        node.visited = True\n",
    "        print(node.name)\n",
    "        \n",
    "        for neighbor in node.neighbors_list:\n",
    "            if not neighbor.visited:                \n",
    "                self.search(neighbor)\n",
    "                                                        "
   ]
  },
  {
   "cell_type": "code",
   "execution_count": 6,
   "metadata": {
    "collapsed": false
   },
   "outputs": [
    {
     "name": "stdout",
     "output_type": "stream",
     "text": [
      "a\n",
      "b\n",
      "c\n",
      "d\n",
      "e\n",
      "f\n",
      "g\n",
      "h\n"
     ]
    }
   ],
   "source": [
    "a = Node('a')\n",
    "b = Node('b')\n",
    "c = Node('c')\n",
    "d = Node('d')\n",
    "e = Node('e')\n",
    "f = Node('f')\n",
    "g = Node('g')\n",
    "h = Node('h')\n",
    "\n",
    "a.neighbors_list = [b,f,g]\n",
    "b.neighbors_list = [c, d]\n",
    "d.neighbors_list = [e]\n",
    "g.neighbors_list = [h]\n",
    "\n",
    "dfs = DepthFirstSearch()\n",
    "dfs.search(a)"
   ]
  },
  {
   "cell_type": "code",
   "execution_count": null,
   "metadata": {
    "collapsed": true
   },
   "outputs": [],
   "source": []
  }
 ],
 "metadata": {
  "anaconda-cloud": {},
  "kernelspec": {
   "display_name": "Python [conda root]",
   "language": "python",
   "name": "conda-root-py"
  },
  "language_info": {
   "codemirror_mode": {
    "name": "ipython",
    "version": 2
   },
   "file_extension": ".py",
   "mimetype": "text/x-python",
   "name": "python",
   "nbconvert_exporter": "python",
   "pygments_lexer": "ipython2",
   "version": "2.7.12"
  }
 },
 "nbformat": 4,
 "nbformat_minor": 1
}
