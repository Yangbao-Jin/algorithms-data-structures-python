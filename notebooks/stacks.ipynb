{
 "cells": [
  {
   "cell_type": "code",
   "execution_count": 5,
   "metadata": {
    "collapsed": true
   },
   "outputs": [],
   "source": [
    "# stack implementation\n",
    "class Stack(object):\n",
    "    \n",
    "    def __init__(self):\n",
    "        self.stack = []\n",
    "        \n",
    "    def isEmpty(self):\n",
    "        return self.stack == []\n",
    "    \n",
    "    def push(self, item):\n",
    "        index = self.get_size()\n",
    "        self.stack.insert(index, item)\n",
    "        \n",
    "    def pop(self):\n",
    "        index = self.get_size() - 1        \n",
    "        if index >= 0:\n",
    "            return self.stack.pop(index)\n",
    "        else:\n",
    "            return None\n",
    "    \n",
    "    def get_size(self):\n",
    "        return len(self.stack)\n",
    "    "
   ]
  },
  {
   "cell_type": "code",
   "execution_count": 6,
   "metadata": {
    "collapsed": false
   },
   "outputs": [
    {
     "name": "stdout",
     "output_type": "stream",
     "text": [
      "30\n",
      "2\n",
      "20\n",
      "1\n",
      "10\n",
      "0\n"
     ]
    }
   ],
   "source": [
    "stack = Stack()\n",
    "stack.push(10)\n",
    "stack.push(20)\n",
    "stack.push(30)\n",
    "\n",
    "print(stack.pop())\n",
    "print(stack.get_size())\n",
    "print(stack.pop())\n",
    "print(stack.get_size())\n",
    "print(stack.pop())\n",
    "print(stack.get_size())"
   ]
  },
  {
   "cell_type": "code",
   "execution_count": null,
   "metadata": {
    "collapsed": true
   },
   "outputs": [],
   "source": []
  }
 ],
 "metadata": {
  "anaconda-cloud": {},
  "kernelspec": {
   "display_name": "Python [conda root]",
   "language": "python",
   "name": "conda-root-py"
  },
  "language_info": {
   "codemirror_mode": {
    "name": "ipython",
    "version": 2
   },
   "file_extension": ".py",
   "mimetype": "text/x-python",
   "name": "python",
   "nbconvert_exporter": "python",
   "pygments_lexer": "ipython2",
   "version": "2.7.12"
  }
 },
 "nbformat": 4,
 "nbformat_minor": 1
}
