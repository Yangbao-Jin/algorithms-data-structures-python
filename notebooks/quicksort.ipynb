{
 "cells": [
  {
   "cell_type": "code",
   "execution_count": 1,
   "metadata": {
    "collapsed": true
   },
   "outputs": [],
   "source": [
    "def quick_sort(nums, low, high):\n",
    "    # terminating condition\n",
    "    if low >= high:\n",
    "        return\n",
    "    \n",
    "    pivot_index = partition(nums, low, high)\n",
    "    quick_sort(nums, low, pivot_index - 1)\n",
    "    quick_sort(nums, pivot_index + 1, high)\n",
    "    \n",
    "    \n",
    "def partition(nums, low, high):\n",
    "    # find the middle index\n",
    "    pivot_index = (low + high) // 2\n",
    "    pivot_value = nums[pivot_index]\n",
    "    \n",
    "    # temporarily swap pivot w/ high\n",
    "    swap(nums, pivot_index, high)\n",
    "    \n",
    "    i = low\n",
    "    \n",
    "    for j in range(low, high, 1):\n",
    "        if nums[j] < pivot_value:\n",
    "            swap(nums, i, j)\n",
    "            i += 1\n",
    "            \n",
    "    swap(nums, i, high)\n",
    "    \n",
    "    return i\n",
    "    \n",
    "    \n",
    "def swap(nums, i, j):\n",
    "    temp = nums[i]\n",
    "    nums[i] = nums[j]\n",
    "    nums[j] = temp"
   ]
  },
  {
   "cell_type": "code",
   "execution_count": 2,
   "metadata": {
    "collapsed": false
   },
   "outputs": [
    {
     "name": "stdout",
     "output_type": "stream",
     "text": [
      "[-33, 0, 3, 3, 22, 22, 44, 45, 49, 55, 69, 72, 78, 80, 94]\n"
     ]
    }
   ],
   "source": [
    "nums = [3,49,22,3,94,22,44,78,0,-33,55,72,69,80,45]\n",
    "quick_sort(nums, 0, len(nums) - 1)\n",
    "print(nums)"
   ]
  },
  {
   "cell_type": "code",
   "execution_count": null,
   "metadata": {
    "collapsed": true
   },
   "outputs": [],
   "source": []
  }
 ],
 "metadata": {
  "anaconda-cloud": {},
  "kernelspec": {
   "display_name": "Python [conda root]",
   "language": "python",
   "name": "conda-root-py"
  },
  "language_info": {
   "codemirror_mode": {
    "name": "ipython",
    "version": 2
   },
   "file_extension": ".py",
   "mimetype": "text/x-python",
   "name": "python",
   "nbconvert_exporter": "python",
   "pygments_lexer": "ipython2",
   "version": "2.7.12"
  }
 },
 "nbformat": 4,
 "nbformat_minor": 0
}
