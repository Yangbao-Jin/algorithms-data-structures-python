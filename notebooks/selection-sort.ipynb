{
 "cells": [
  {
   "cell_type": "code",
   "execution_count": 1,
   "metadata": {
    "collapsed": true
   },
   "outputs": [],
   "source": [
    "\n",
    "def selection_sort(nums):\n",
    "    for i in range(len(nums)-1):\n",
    "        index = i\n",
    "        \n",
    "        for j in range(i+1, len(nums)-1):\n",
    "            if nums[j] < nums[index]:\n",
    "                index = j\n",
    "        \n",
    "        if index != i:\n",
    "            swap(nums, index, i)\n",
    "    \n",
    "    \n",
    "def swap(nums, i, j):\n",
    "    temp = nums[i]\n",
    "    nums[i] = nums[j]\n",
    "    nums[j] = temp\n",
    "    \n",
    "    "
   ]
  },
  {
   "cell_type": "code",
   "execution_count": 2,
   "metadata": {
    "collapsed": false
   },
   "outputs": [
    {
     "name": "stdout",
     "output_type": "stream",
     "text": [
      "[-34, -11, 9, 22, 33, 34, 55, 55, 66, 77, 84, 93, 98, 29]\n"
     ]
    }
   ],
   "source": [
    "nums = [33,9,-11,34,66,22,84,98,77,-34,55,55,93,29]\n",
    "selection_sort(nums)\n",
    "print(nums)"
   ]
  },
  {
   "cell_type": "code",
   "execution_count": null,
   "metadata": {
    "collapsed": true
   },
   "outputs": [],
   "source": []
  }
 ],
 "metadata": {
  "anaconda-cloud": {},
  "kernelspec": {
   "display_name": "Python [conda root]",
   "language": "python",
   "name": "conda-root-py"
  },
  "language_info": {
   "codemirror_mode": {
    "name": "ipython",
    "version": 2
   },
   "file_extension": ".py",
   "mimetype": "text/x-python",
   "name": "python",
   "nbconvert_exporter": "python",
   "pygments_lexer": "ipython2",
   "version": "2.7.12"
  }
 },
 "nbformat": 4,
 "nbformat_minor": 1
}
