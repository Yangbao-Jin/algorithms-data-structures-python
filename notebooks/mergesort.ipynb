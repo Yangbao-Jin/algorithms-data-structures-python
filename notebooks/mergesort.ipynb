{
 "cells": [
  {
   "cell_type": "code",
   "execution_count": 22,
   "metadata": {
    "collapsed": false
   },
   "outputs": [],
   "source": [
    "def merge_sort(nums):\n",
    "    if len(nums) == 1:\n",
    "        return\n",
    "    \n",
    "    middle_index = len(nums) // 2\n",
    "    left_half = nums[:middle_index]\n",
    "    right_half = nums[middle_index:]\n",
    "    \n",
    "    merge_sort(left_half)\n",
    "    merge_sort(right_half)\n",
    "    \n",
    "    i = 0\n",
    "    j = 0\n",
    "    k = 0\n",
    "    \n",
    "    while i<len(left_half) and j<len(right_half):\n",
    "        if left_half[i] < right_half[j]:\n",
    "            nums[k] = left_half[i]\n",
    "            i = i + 1\n",
    "        else:\n",
    "            nums[k] = right_half[j]\n",
    "            j = j + 1\n",
    "        \n",
    "        k = k + 1\n",
    "        \n",
    "    while i < len(left_half):\n",
    "        nums[k] = left_half[i]\n",
    "        k = k + 1\n",
    "        i = i + 1\n",
    "        \n",
    "    print(nums)\n",
    "    "
   ]
  },
  {
   "cell_type": "code",
   "execution_count": 23,
   "metadata": {
    "collapsed": false
   },
   "outputs": [
    {
     "name": "stdout",
     "output_type": "stream",
     "text": [
      "[-3, 44]\n",
      "[9, 23]\n",
      "[-3, 9, 23, 44]\n",
      "[0, 59]\n",
      "[22, 33]\n",
      "[0, 22, 33, 59]\n",
      "[-3, 0, 9, 22, 23, 33, 44, 22]\n",
      "[11, 22]\n",
      "[53, 99]\n",
      "[11, 22, 99, 53]\n",
      "[1, 67]\n",
      "[-8, 31]\n",
      "[-8, 1, 31, 67]\n",
      "[-8, 1, 11, 22, 31, 67, 99, 53]\n",
      "[-8, -3, 0, 1, 9, 11, 22, 22, 23, 31, 33, 44, 22, 1, 31, -8]\n",
      "[-8, -3, 0, 1, 9, 11, 22, 22, 23, 31, 33, 44, 22, 1, 31, -8]\n"
     ]
    }
   ],
   "source": [
    "nums = [-3,44,9,23,0,59,33,22,11,22,99,53,67,1,31,-8]\n",
    "merge_sort(nums)\n",
    "print(nums)"
   ]
  },
  {
   "cell_type": "code",
   "execution_count": null,
   "metadata": {
    "collapsed": true
   },
   "outputs": [],
   "source": []
  }
 ],
 "metadata": {
  "kernelspec": {
   "display_name": "Python [conda root]",
   "language": "python",
   "name": "conda-root-py"
  },
  "language_info": {
   "codemirror_mode": {
    "name": "ipython",
    "version": 2
   },
   "file_extension": ".py",
   "mimetype": "text/x-python",
   "name": "python",
   "nbconvert_exporter": "python",
   "pygments_lexer": "ipython2",
   "version": "2.7.12"
  }
 },
 "nbformat": 4,
 "nbformat_minor": 1
}
