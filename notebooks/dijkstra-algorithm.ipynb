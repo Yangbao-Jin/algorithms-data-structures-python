{
 "cells": [
  {
   "cell_type": "code",
   "execution_count": 1,
   "metadata": {
    "collapsed": true
   },
   "outputs": [],
   "source": [
    "import sys;\n",
    "import heapq;"
   ]
  },
  {
   "cell_type": "code",
   "execution_count": 7,
   "metadata": {
    "collapsed": true
   },
   "outputs": [],
   "source": [
    "class Edge(object):\n",
    "    \n",
    "    def __init__(self, weight, start_vertex, end_vertex):\n",
    "        self.weight = weight\n",
    "        self.start_vertex = start_vertex\n",
    "        self.end_vertex = end_vertex\n",
    "        \n",
    "\n",
    "class Node(object):\n",
    "    \n",
    "    def __init__(self, name):\n",
    "        self.name = name\n",
    "        self.visited = False\n",
    "        self.predecessor = None\n",
    "        self.edges = []\n",
    "        self.min_distance = sys.maxsize\n",
    "        \n",
    "    # comparator method - used by the heap to determine order of nodes\n",
    "    def __cmp__(self, other_vertex):\n",
    "        return self.cmp(self.min_distance, other_vertex.min_distance)\n",
    "    \n",
    "    # less then method\n",
    "    def __lt__(self, other_vertex):\n",
    "        return self.min_distance < other_vertex.min_distance\n",
    "        \n",
    "\n",
    "class DijkstraAlgorithm(object):\n",
    "    \n",
    "    def calc_shortest_path(self, vertex_list, start_vertex):\n",
    "        q = []\n",
    "        start_vertex.min_distance = 0\n",
    "        heapq.heappush(q, start_vertex)\n",
    "        \n",
    "        while len(q) > 0:\n",
    "            vertex = heapq.heappop(q)\n",
    "            \n",
    "            for edge in vertex.edges:\n",
    "                u = edge.start_vertex\n",
    "                v = edge.end_vertex\n",
    "                new_distance = u.min_distance + edge.weight\n",
    "                \n",
    "                if new_distance < v.min_distance:\n",
    "                    v.predecessor = u\n",
    "                    v.min_distance = new_distance\n",
    "                    heapq.heappush(q, v)\n",
    "    \n",
    "    \n",
    "    def get_shortest_path(self, end_vertex):\n",
    "        print('Shortest path to vertex is: %s' % end_vertex.min_distance)\n",
    "        \n",
    "        node = end_vertex\n",
    "        \n",
    "        while node is not None:\n",
    "            print(\"%s\" % node.name)\n",
    "            node = node.predecessor\n",
    "        "
   ]
  },
  {
   "cell_type": "code",
   "execution_count": 8,
   "metadata": {
    "collapsed": false
   },
   "outputs": [
    {
     "name": "stdout",
     "output_type": "stream",
     "text": [
      "Shortest path to vertex is: 25\n",
      "G\n",
      "C\n",
      "F\n",
      "E\n",
      "A\n"
     ]
    }
   ],
   "source": [
    "a = Node('A')\n",
    "b = Node('B')\n",
    "c = Node('C')\n",
    "d = Node('D')\n",
    "e = Node('E')\n",
    "f = Node('F')\n",
    "g = Node('G')\n",
    "h = Node('H')\n",
    "\n",
    "edge1 = Edge(5, a, b)\n",
    "edge2 = Edge(8, a, h)\n",
    "edge3 = Edge(9, a, e)\n",
    "edge4 = Edge(15, b, d)\n",
    "edge5 = Edge(12, b, c)\n",
    "edge6 = Edge(4, b, h)\n",
    "edge7 = Edge(7, h, c)\n",
    "edge8 = Edge(6, h, f)\n",
    "edge9 = Edge(5, e, h)\n",
    "edge10 = Edge(4, e, f)\n",
    "edge11 = Edge(20, e, g)\n",
    "edge12 = Edge(1, f, c)\n",
    "edge13 = Edge(13, f, g)\n",
    "edge14 = Edge(3, c, d)\n",
    "edge15 = Edge(11, c, g)\n",
    "edge16 = Edge(9, d, g)\n",
    "\n",
    "a.edges = [edge1, edge2, edge3]\n",
    "b.edges = [edge4, edge5, edge6]\n",
    "c.edges = [edge14, edge15]\n",
    "d.edges = [edge16]\n",
    "e.edges = [edge9, edge10, edge11]\n",
    "f.edges = [edge12, edge13]\n",
    "g.edges = []\n",
    "h.edges = [edge7, edge8]\n",
    "\n",
    "vertex_list = [a, b, c, d, e, f, g, h]\n",
    "\n",
    "alg = DijkstraAlgorithm()\n",
    "alg.calc_shortest_path(vertex_list, a)\n",
    "alg.get_shortest_path(g);\n"
   ]
  },
  {
   "cell_type": "code",
   "execution_count": 9,
   "metadata": {
    "collapsed": false
   },
   "outputs": [
    {
     "name": "stdout",
     "output_type": "stream",
     "text": [
      "Shortest path to vertex is: 17\n",
      "D\n",
      "C\n",
      "F\n",
      "E\n",
      "A\n"
     ]
    }
   ],
   "source": [
    "alg.get_shortest_path(d);"
   ]
  },
  {
   "cell_type": "code",
   "execution_count": null,
   "metadata": {
    "collapsed": true
   },
   "outputs": [],
   "source": []
  }
 ],
 "metadata": {
  "anaconda-cloud": {},
  "kernelspec": {
   "display_name": "Python [conda root]",
   "language": "python",
   "name": "conda-root-py"
  },
  "language_info": {
   "codemirror_mode": {
    "name": "ipython",
    "version": 2
   },
   "file_extension": ".py",
   "mimetype": "text/x-python",
   "name": "python",
   "nbconvert_exporter": "python",
   "pygments_lexer": "ipython2",
   "version": "2.7.12"
  }
 },
 "nbformat": 4,
 "nbformat_minor": 1
}
