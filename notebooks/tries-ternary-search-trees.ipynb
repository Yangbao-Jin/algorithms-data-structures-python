{
 "cells": [
  {
   "cell_type": "code",
   "execution_count": 4,
   "metadata": {
    "collapsed": false
   },
   "outputs": [],
   "source": [
    "class Node(object):\n",
    "    \n",
    "    def __init__(self, character):\n",
    "        self.character = character\n",
    "        self.left_node = None\n",
    "        self.middle_node = None\n",
    "        self.right_node = None\n",
    "\n",
    "        \n",
    "class TernarySearchTree(object):\n",
    "    \n",
    "    def __init__(self):\n",
    "        self.root_node = None\n",
    "        \n",
    "    def put(self, key, value):\n",
    "        self.root_node = self.put_item(self.root_node, key, value, 0)\n",
    "        \n",
    "    def put_item(self, node, key, value, index):\n",
    "        character = key[index]\n",
    "        \n",
    "        if node == None:\n",
    "            node = Node(character)\n",
    "        \n",
    "        if character < node.character:\n",
    "            node.left_node = self.put_item(node.left_node, key, value, index)\n",
    "        elif character > node.character:\n",
    "            node.right_node = self.put_item(node.right_node, key, value, index)\n",
    "        elif index < len(key)-1:\n",
    "            node.middle_node = self.put_item(node.middle_node, key, value, index + 1)\n",
    "        else:\n",
    "            node.value = value\n",
    "            \n",
    "        return node\n",
    "        \n",
    "        \n",
    "    def get(self, key):\n",
    "        node = self.get_item(self.root_node, key, 0)\n",
    "        if node == None:\n",
    "            return None\n",
    "        else:\n",
    "            return node.value\n",
    "        \n",
    "        \n",
    "    def get_item(self, node, key, index):\n",
    "        \n",
    "        if node == None:\n",
    "            return None\n",
    "        \n",
    "        character = key[index]\n",
    "        \n",
    "        if character < node.character:\n",
    "            return self.get_item(node.left_node, key, index)\n",
    "        elif character > node.character:\n",
    "            return self.get_item(node.right_node, key, index)\n",
    "        elif index < len(key)-1:\n",
    "            return self.get_item(node.middle_node, key, index + 1)\n",
    "        else:\n",
    "            return node\n",
    "        \n"
   ]
  },
  {
   "cell_type": "code",
   "execution_count": 8,
   "metadata": {
    "collapsed": false
   },
   "outputs": [
    {
     "name": "stdout",
     "output_type": "stream",
     "text": [
      "50000\n",
      "200\n",
      "None\n",
      "888\n"
     ]
    }
   ],
   "source": [
    "tree = TernarySearchTree()\n",
    "\n",
    "tree.put(\"apple\", 100)\n",
    "tree.put(\"orange\", 200)\n",
    "tree.put(\"apple\", 50000)\n",
    "tree.put(\"pear\", 500)\n",
    "tree.put(\"strawberry\", 888)\n",
    "tree.put(\"pomegranate\", 999)\n",
    "\n",
    "print(tree.get(\"apple\"))\n",
    "print(tree.get(\"orange\"))\n",
    "print(tree.get(\"banana\"))\n",
    "print(tree.get(\"strawberry\"))"
   ]
  },
  {
   "cell_type": "code",
   "execution_count": null,
   "metadata": {
    "collapsed": true
   },
   "outputs": [],
   "source": []
  }
 ],
 "metadata": {
  "anaconda-cloud": {},
  "kernelspec": {
   "display_name": "Python [conda root]",
   "language": "python",
   "name": "conda-root-py"
  },
  "language_info": {
   "codemirror_mode": {
    "name": "ipython",
    "version": 2
   },
   "file_extension": ".py",
   "mimetype": "text/x-python",
   "name": "python",
   "nbconvert_exporter": "python",
   "pygments_lexer": "ipython2",
   "version": "2.7.12"
  }
 },
 "nbformat": 4,
 "nbformat_minor": 1
}
