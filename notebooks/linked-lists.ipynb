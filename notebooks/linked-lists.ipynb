{
 "cells": [
  {
   "cell_type": "code",
   "execution_count": 47,
   "metadata": {
    "collapsed": true
   },
   "outputs": [],
   "source": [
    "# linked list node\n",
    "class Node(object):\n",
    "    \n",
    "    # constructor\n",
    "    def __init__(self, data):\n",
    "        self.data = data\n",
    "        self.nextNode = None\n",
    "        \n",
    "        \n",
    "# linked list        \n",
    "class LinkedList(object):\n",
    "    \n",
    "    # constructor\n",
    "    def __init__(self):\n",
    "        self.head = None\n",
    "        self.size = 0    \n",
    "    \n",
    "    # O(1)\n",
    "    def insertStart(self, data):\n",
    "        self.size = self.size + 1\n",
    "        newNode = Node(data)\n",
    "        \n",
    "        # update references\n",
    "        if not self.head:\n",
    "            self.head = newNode\n",
    "        else:\n",
    "            newNode.nextNode = self.head\n",
    "            self.head = newNode\n",
    "            \n",
    "    # O(N) - must traverse to find last node\n",
    "    def insertEnd(self, data):\n",
    "        # increment size\n",
    "        self.size = self.size + 1        \n",
    "        \n",
    "        # traverse to last node\n",
    "        currentNode = self.head        \n",
    "        while currentNode.nextNode is not None:\n",
    "            currentNode = currentNode.nextNode\n",
    "            \n",
    "        # update reference of the last node to the new node\n",
    "        currentNode.nextNode = Node(data)            \n",
    "        \n",
    "    # O(N) - must traverse to find node to remove\n",
    "    def remove(self, data):\n",
    "        if self.head is None:\n",
    "            return\n",
    "        \n",
    "        self.size = self.size - 1;    \n",
    "        previousNode = None\n",
    "        currentNode = self.head\n",
    "        \n",
    "        while currentNode.data != data:\n",
    "            if currentNode.nextNode is None:\n",
    "                # node not found\n",
    "                return\n",
    "            else:\n",
    "                previousNode = currentNode\n",
    "                currentNode = currentNode.nextNode\n",
    "                \n",
    "        # update reference of previous node\n",
    "        previousNode.nextNode = currentNode.nextNode\n",
    "            \n",
    "    # O(1) - store reference to size for faster performance\n",
    "    def get_size(self):\n",
    "        return self.size\n",
    "    \n",
    "    # O(N) - not good, must traverse the linked list items to determine the size\n",
    "    def get_size2(self):\n",
    "        currentNode = self.head\n",
    "        size = 0\n",
    "        \n",
    "        while currentNode is not None:\n",
    "            size+=1\n",
    "            currentNode = currentNode.nextNode\n",
    "            \n",
    "        return size\n",
    "    \n",
    "    def print_items(self):\n",
    "        currentNode = self.head        \n",
    "        while currentNode is not None:\n",
    "            print(currentNode.data)\n",
    "            currentNode = currentNode.nextNode\n",
    "            \n",
    "            \n",
    "            "
   ]
  },
  {
   "cell_type": "code",
   "execution_count": 48,
   "metadata": {
    "collapsed": false
   },
   "outputs": [],
   "source": [
    "list = LinkedList()\n",
    "list.insertStart(3)\n",
    "list.insertStart(2)\n",
    "list.insertStart(1)"
   ]
  },
  {
   "cell_type": "code",
   "execution_count": 49,
   "metadata": {
    "collapsed": false
   },
   "outputs": [
    {
     "data": {
      "text/plain": [
       "3"
      ]
     },
     "execution_count": 49,
     "metadata": {},
     "output_type": "execute_result"
    }
   ],
   "source": [
    "list.get_size()"
   ]
  },
  {
   "cell_type": "code",
   "execution_count": 50,
   "metadata": {
    "collapsed": false
   },
   "outputs": [
    {
     "name": "stdout",
     "output_type": "stream",
     "text": [
      "1\n",
      "2\n",
      "3\n"
     ]
    }
   ],
   "source": [
    "list.print_items()"
   ]
  },
  {
   "cell_type": "code",
   "execution_count": 51,
   "metadata": {
    "collapsed": true
   },
   "outputs": [],
   "source": [
    "list.insertEnd(4)"
   ]
  },
  {
   "cell_type": "code",
   "execution_count": 52,
   "metadata": {
    "collapsed": false
   },
   "outputs": [
    {
     "name": "stdout",
     "output_type": "stream",
     "text": [
      "1\n",
      "2\n",
      "3\n",
      "4\n"
     ]
    }
   ],
   "source": [
    "list.print_items()"
   ]
  },
  {
   "cell_type": "code",
   "execution_count": 53,
   "metadata": {
    "collapsed": false
   },
   "outputs": [
    {
     "name": "stdout",
     "output_type": "stream",
     "text": [
      "1\n",
      "2\n",
      "3\n",
      "4\n",
      "THE END IS HERE\n"
     ]
    }
   ],
   "source": [
    "list.insertEnd('THE END IS HERE')\n",
    "list.print_items()"
   ]
  },
  {
   "cell_type": "code",
   "execution_count": 54,
   "metadata": {
    "collapsed": false
   },
   "outputs": [
    {
     "name": "stdout",
     "output_type": "stream",
     "text": [
      "1\n",
      "3\n",
      "4\n",
      "THE END IS HERE\n"
     ]
    }
   ],
   "source": [
    "list.remove(2)\n",
    "list.print_items()"
   ]
  },
  {
   "cell_type": "code",
   "execution_count": 55,
   "metadata": {
    "collapsed": false
   },
   "outputs": [
    {
     "name": "stdout",
     "output_type": "stream",
     "text": [
      "1\n",
      "3\n",
      "THE END IS HERE\n"
     ]
    }
   ],
   "source": [
    "list.remove(4)\n",
    "list.print_items()"
   ]
  },
  {
   "cell_type": "code",
   "execution_count": 57,
   "metadata": {
    "collapsed": false
   },
   "outputs": [
    {
     "data": {
      "text/plain": [
       "3"
      ]
     },
     "execution_count": 57,
     "metadata": {},
     "output_type": "execute_result"
    }
   ],
   "source": [
    "list.get_size()"
   ]
  },
  {
   "cell_type": "code",
   "execution_count": null,
   "metadata": {
    "collapsed": true
   },
   "outputs": [],
   "source": []
  }
 ],
 "metadata": {
  "kernelspec": {
   "display_name": "Python [conda root]",
   "language": "python",
   "name": "conda-root-py"
  },
  "language_info": {
   "codemirror_mode": {
    "name": "ipython",
    "version": 2
   },
   "file_extension": ".py",
   "mimetype": "text/x-python",
   "name": "python",
   "nbconvert_exporter": "python",
   "pygments_lexer": "ipython2",
   "version": "2.7.12"
  }
 },
 "nbformat": 4,
 "nbformat_minor": 1
}
