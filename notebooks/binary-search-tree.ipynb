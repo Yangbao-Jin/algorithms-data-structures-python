{
 "cells": [
  {
   "cell_type": "code",
   "execution_count": 30,
   "metadata": {
    "collapsed": false
   },
   "outputs": [],
   "source": [
    "# binary search tree node\n",
    "class Node(object):\n",
    "    \n",
    "    def __init__(self, data):\n",
    "        self.data = data\n",
    "        self.left_child = None\n",
    "        self.right_child = None\n",
    "    \n",
    "    \n",
    "class BinarySearchTree(object):\n",
    "    \n",
    "    def __init__(self):\n",
    "        self.root = None\n",
    "        \n",
    "        \n",
    "    def insert(self, data):\n",
    "        if not self.root:\n",
    "            self.root = Node(data)\n",
    "        else:\n",
    "            self.insert_node(data, self.root)\n",
    "    \n",
    "    # O(logN)   \n",
    "    def insert_node(self, data, node):\n",
    "        if data < node.data:\n",
    "            if node.left_child:\n",
    "                self.insert_node(data, node.left_child)\n",
    "            else:\n",
    "                node.left_child = Node(data)\n",
    "        else:\n",
    "            if node.right_child:\n",
    "                self.insert_node(data, node.right_child)\n",
    "            else:\n",
    "                node.right_child = Node(data)\n",
    "    \n",
    "    def remove(self, data):\n",
    "        if self.root:\n",
    "            self.root = self.remove_node(data, self.root)\n",
    "            \n",
    "    # O(logN)\n",
    "    def remove_node(self, data, node):\n",
    "        if not node:\n",
    "            return node\n",
    "        \n",
    "        if data < node.data:\n",
    "            node.left_child = self.remove_node(data, node.left_child)\n",
    "        elif data > node.data:\n",
    "            node.right_child = self.remove_node(data, node.right_child)\n",
    "        else:\n",
    "            # leaf node\n",
    "            if not node.left_child and not node.right_child:\n",
    "                del node\n",
    "                return None\n",
    "            \n",
    "            # single left child\n",
    "            if not node.left_child:\n",
    "                temp_node = node.right_child\n",
    "                del node\n",
    "                return temp_node  \n",
    "            \n",
    "            # single right child\n",
    "            elif not node.right_child:\n",
    "                temp_node = node.left_child\n",
    "                del node\n",
    "                return temp_node\n",
    "                \n",
    "            # both left and right children - remove node and replace w/ predecessor in subtree\n",
    "            temp_node = self.get_predecessor(node.left_child)\n",
    "            node.data = temp_node.data\n",
    "            node.left_child = self.remove_node(temp_node.data, node.left_child)\n",
    "        \n",
    "        return node\n",
    "\n",
    "            \n",
    "    def get_predecessor(self, node):\n",
    "        if node.right_child:\n",
    "            return self.get_predecessor(node.right_child)\n",
    "    \n",
    "    def get_min(self):\n",
    "        if not self.root:\n",
    "            return None                \n",
    "        \n",
    "        # descend to deepest left-most node\n",
    "        current_node = self.root\n",
    "        while current_node.left_child:\n",
    "            current_node = current_node.left_child    \n",
    "            \n",
    "        return current_node.data\n",
    "    \n",
    "    \n",
    "    def get_max(self):\n",
    "        if not self.root:\n",
    "            return None\n",
    "                        \n",
    "        # descend to deepest right-most node\n",
    "        current_node = self.root\n",
    "        while current_node.right_child:\n",
    "            current_node = current_node.right_child   \n",
    "            \n",
    "        return current_node.data\n",
    "        \n",
    "        \n",
    "    def traverse(self):\n",
    "        if self.root:\n",
    "            self.traverse_in_order(self.root)\n",
    "            \n",
    "    # O(N)                \n",
    "    def traverse_in_order(self, node):\n",
    "        \n",
    "        if node.left_child:\n",
    "            self.traverse_in_order(node.left_child)\n",
    "            \n",
    "        print(\"%s \" % node.data)\n",
    "        \n",
    "        if node.right_child:\n",
    "            self.traverse_in_order(node.right_child)\n",
    "                \n",
    "            "
   ]
  },
  {
   "cell_type": "code",
   "execution_count": 31,
   "metadata": {
    "collapsed": false
   },
   "outputs": [
    {
     "name": "stdout",
     "output_type": "stream",
     "text": [
      "5\n",
      "14\n"
     ]
    }
   ],
   "source": [
    "bst = BinarySearchTree()\n",
    "bst.insert(10)\n",
    "bst.insert(13)\n",
    "bst.insert(5)\n",
    "bst.insert(14)\n",
    "\n",
    "print(bst.get_min())\n",
    "print(bst.get_max())"
   ]
  },
  {
   "cell_type": "code",
   "execution_count": 32,
   "metadata": {
    "collapsed": false
   },
   "outputs": [
    {
     "name": "stdout",
     "output_type": "stream",
     "text": [
      "5 \n",
      "10 \n",
      "13 \n",
      "14 \n"
     ]
    }
   ],
   "source": [
    "bst.traverse()"
   ]
  },
  {
   "cell_type": "code",
   "execution_count": 33,
   "metadata": {
    "collapsed": true
   },
   "outputs": [],
   "source": [
    "bst.remove(5)"
   ]
  },
  {
   "cell_type": "code",
   "execution_count": 34,
   "metadata": {
    "collapsed": false
   },
   "outputs": [
    {
     "name": "stdout",
     "output_type": "stream",
     "text": [
      "10 \n",
      "13 \n",
      "14 \n"
     ]
    }
   ],
   "source": [
    "bst.traverse()"
   ]
  },
  {
   "cell_type": "code",
   "execution_count": null,
   "metadata": {
    "collapsed": true
   },
   "outputs": [],
   "source": []
  }
 ],
 "metadata": {
  "kernelspec": {
   "display_name": "Python [conda root]",
   "language": "python",
   "name": "conda-root-py"
  },
  "language_info": {
   "codemirror_mode": {
    "name": "ipython",
    "version": 2
   },
   "file_extension": ".py",
   "mimetype": "text/x-python",
   "name": "python",
   "nbconvert_exporter": "python",
   "pygments_lexer": "ipython2",
   "version": "2.7.12"
  }
 },
 "nbformat": 4,
 "nbformat_minor": 1
}
